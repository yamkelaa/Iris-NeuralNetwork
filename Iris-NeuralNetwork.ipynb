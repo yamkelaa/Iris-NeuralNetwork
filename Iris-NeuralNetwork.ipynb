{
 "cells": [
  {
   "cell_type": "code",
   "execution_count": 19,
   "id": "815f9b56-b11f-4ce8-95dd-1b467c78706b",
   "metadata": {},
   "outputs": [],
   "source": [
    "# Step 1: Load Iris dataset and filter only Setosa and Versicolor\n",
    "data = []\n",
    "with open('Iris.csv', 'r') as f:\n",
    "    lines = f.readlines()\n",
    "\n",
    "for line in lines[1:]:  # skip header\n",
    "    parts = line.strip().split(',')\n",
    "    if parts[5] == 'Iris-setosa':\n",
    "        label = 0\n",
    "    elif parts[5] == 'Iris-versicolor':\n",
    "        label = 1\n",
    "    else:\n",
    "        continue  # skip 'Iris-virginica'\n",
    "    \n",
    "    features = list(map(float, parts[1:5]))  # ignore Id\n",
    "    data.append(features + [label])"
   ]
  },
  {
   "cell_type": "code",
   "execution_count": 20,
   "id": "9c488aba-7ff9-4bb1-b213-9f8bbc363228",
   "metadata": {},
   "outputs": [],
   "source": [
    "import random\n",
    "\n",
    "# Shuffle and split: 80% train, 20% test\n",
    "random.shuffle(data)\n",
    "split_index = int(len(data) * 0.8)\n",
    "train_data = data[:split_index]\n",
    "test_data = data[split_index:]"
   ]
  },
  {
   "cell_type": "code",
   "execution_count": 21,
   "id": "cc4af5c9-1975-4760-ac3c-4f907097311f",
   "metadata": {},
   "outputs": [],
   "source": [
    "import math\n",
    "\n",
    "# Initialize weights and bias\n",
    "weights = [random.uniform(0, 1) for _ in range(4)]\n",
    "bias = random.uniform(0, 1)\n",
    "learning_rate = 0.1\n",
    "epochs = 1000\n",
    "\n",
    "def sigmoid(z):\n",
    "    return 1 / (1 + math.exp(-z))\n",
    "\n",
    "def bce_loss(y_true, y_pred):\n",
    "    return -(y_true * math.log(y_pred + 1e-8) + (1 - y_true) * math.log(1 - y_pred + 1e-8))"
   ]
  },
  {
   "cell_type": "code",
   "execution_count": 22,
   "id": "b047699b-7bdd-46fb-88ce-4dcc7fc2f9ba",
   "metadata": {},
   "outputs": [
    {
     "name": "stdout",
     "output_type": "stream",
     "text": [
      "Epoch 0 - Loss: 0.4655\n",
      "Epoch 100 - Loss: 0.0012\n",
      "Epoch 200 - Loss: 0.0007\n",
      "Epoch 300 - Loss: 0.0005\n",
      "Epoch 400 - Loss: 0.0004\n",
      "Epoch 500 - Loss: 0.0003\n",
      "Epoch 600 - Loss: 0.0002\n",
      "Epoch 700 - Loss: 0.0002\n",
      "Epoch 800 - Loss: 0.0002\n",
      "Epoch 900 - Loss: 0.0002\n"
     ]
    }
   ],
   "source": [
    "# Train model\n",
    "for epoch in range(epochs):\n",
    "    total_loss = 0\n",
    "    for sample in train_data:\n",
    "        x = sample[:4]\n",
    "        y = float(sample[4])\n",
    "        z = sum(w * xi for w, xi in zip(weights, x)) + bias\n",
    "        pred = sigmoid(z)\n",
    "        loss = bce_loss(y, pred)\n",
    "        total_loss += loss\n",
    "        error = pred - y\n",
    "        weights = [w - learning_rate * error * xi for w, xi in zip(weights, x)]\n",
    "        bias -= learning_rate * error\n",
    "    \n",
    "    if epoch % 100 == 0:\n",
    "        print(f\"Epoch {epoch} - Loss: {total_loss / len(train_data):.4f}\")"
   ]
  },
  {
   "cell_type": "code",
   "execution_count": 23,
   "id": "49ddce66-49ff-4446-af96-828d22e1047c",
   "metadata": {},
   "outputs": [
    {
     "name": "stdout",
     "output_type": "stream",
     "text": [
      "\n",
      "Accuracy: 100.00%\n"
     ]
    }
   ],
   "source": [
    "def predict(sample):\n",
    "    z = sum(w * xi for w, xi in zip(weights, sample)) + bias\n",
    "    return 1 if sigmoid(z) >= 0.5 else 0\n",
    "\n",
    "correct = 0\n",
    "for sample in test_data:\n",
    "    x = sample[:4]\n",
    "    y = sample[4]\n",
    "    if predict(x) == y:\n",
    "        correct += 1\n",
    "\n",
    "accuracy = correct / len(test_data)\n",
    "print(f\"\\nAccuracy: {accuracy * 100:.2f}%\")"
   ]
  },
  {
   "cell_type": "code",
   "execution_count": null,
   "id": "4b62e8c5-4a28-4d43-bf28-e88fb4197a41",
   "metadata": {},
   "outputs": [],
   "source": []
  }
 ],
 "metadata": {
  "kernelspec": {
   "display_name": "Python 3 (ipykernel)",
   "language": "python",
   "name": "python3"
  },
  "language_info": {
   "codemirror_mode": {
    "name": "ipython",
    "version": 3
   },
   "file_extension": ".py",
   "mimetype": "text/x-python",
   "name": "python",
   "nbconvert_exporter": "python",
   "pygments_lexer": "ipython3",
   "version": "3.13.5"
  }
 },
 "nbformat": 4,
 "nbformat_minor": 5
}
