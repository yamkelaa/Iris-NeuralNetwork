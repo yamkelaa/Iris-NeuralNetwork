{
 "cells": [
  {
   "cell_type": "code",
   "execution_count": 27,
   "id": "5433fd14-c19b-403a-989c-de10bcb8ca5c",
   "metadata": {},
   "outputs": [],
   "source": [
    "#Imports\n",
    "import math\n",
    "import random\n",
    "from sklearn.datasets import load_iris"
   ]
  },
  {
   "cell_type": "code",
   "execution_count": 28,
   "id": "1938fd05-2d75-482b-82ff-b4b0d6ac06a6",
   "metadata": {},
   "outputs": [],
   "source": [
    "#Load Dataset\n",
    "iris = load_iris()\n",
    "X, y = iris.data, iris.target"
   ]
  },
  {
   "cell_type": "code",
   "execution_count": 29,
   "id": "7524c2ae-bfad-450d-8623-e6817146a50c",
   "metadata": {},
   "outputs": [],
   "source": [
    "#Filter Dataset\n",
    "data = [[*X[i], y[i]] for i in range(len(y)) if y[i] in [0, 1]]"
   ]
  },
  {
   "cell_type": "code",
   "execution_count": 30,
   "id": "856c84e5-a493-4333-b165-600678c68a7e",
   "metadata": {},
   "outputs": [],
   "source": [
    "#Normalize Features\n",
    "def normalize(data):\n",
    "    for col in range(4):\n",
    "        values = [row[col] for row in data]\n",
    "        min_val, max_val = min(values), max(values)\n",
    "        for row in data:\n",
    "            row[col] = (row[col] - min_val) / (max_val - min_val)\n",
    "normalize(data)"
   ]
  },
  {
   "cell_type": "code",
   "execution_count": 31,
   "id": "6bc7c084-b532-48c9-9560-d3b76d8f398f",
   "metadata": {},
   "outputs": [],
   "source": [
    "#Sigmoid Function\n",
    "def sigmoid(x): return 1 / (1 + math.exp(-x))\n",
    "def sigmoid_deriv(x): return x * (1 - x)"
   ]
  },
  {
   "cell_type": "code",
   "execution_count": 32,
   "id": "399509f7-2cea-4ff0-99a9-fb519811175f",
   "metadata": {},
   "outputs": [],
   "source": [
    "# Initialize weights and biases\n",
    "random.seed(0)\n",
    "hidden_weights = [random.uniform(-1, 1) for _ in range(4)] \n",
    "hidden_bias = random.uniform(-1, 1)\n",
    "\n",
    "output_weights = [random.uniform(-1, 1)] \n",
    "output_bias = random.uniform(-1, 1)"
   ]
  },
  {
   "cell_type": "code",
   "execution_count": 36,
   "id": "24104f1f-bd7a-488c-9470-c8b033cbf216",
   "metadata": {},
   "outputs": [],
   "source": [
    "#Forward Pass\n",
    "def forward(x):\n",
    "    hidden_input = sum(x[i] * hidden_weights[i] for i in range(4)) + hidden_bias\n",
    "    hidden_output = sigmoid(hidden_input)\n",
    "\n",
    "    output_input = hidden_output * output_weights[0] + output_bias\n",
    "    output = sigmoid(output_input)\n",
    "\n",
    "    return hidden_output, output"
   ]
  },
  {
   "cell_type": "code",
   "execution_count": 34,
   "id": "86bd7a39-c475-4500-aee0-a3209f91d5ef",
   "metadata": {},
   "outputs": [],
   "source": [
    "#Training\n",
    "lr = 0.5\n",
    "for epoch in range(3000):\n",
    "    for row in data:\n",
    "        x, y_true = row[:4], row[4]\n",
    "        h, o = forward(x)\n",
    "\n",
    "        error_output = y_true - o\n",
    "        d_output = error_output * sigmoid_deriv(o)\n",
    "\n",
    "        error_hidden = output_weights[0] * d_output\n",
    "        d_hidden = error_hidden * sigmoid_deriv(h)\n",
    "\n",
    "        output_weights[0] += lr * d_output * h\n",
    "        output_bias += lr * d_output\n",
    "\n",
    "        for i in range(4):\n",
    "            hidden_weights[i] += lr * d_hidden * x[i]\n",
    "        hidden_bias += lr * d_hidden"
   ]
  },
  {
   "cell_type": "code",
   "execution_count": 37,
   "id": "927236e1-161c-4340-be75-32da1d10dabe",
   "metadata": {},
   "outputs": [
    {
     "name": "stdout",
     "output_type": "stream",
     "text": [
      "Accuracy: 100.00%\n"
     ]
    }
   ],
   "source": [
    "#Evaluation\n",
    "correct = 0\n",
    "for row in data:\n",
    "    _, o = forward(row[:4])\n",
    "    pred = 1 if o > 0.5 else 0\n",
    "    if pred == row[4]:\n",
    "        correct += 1\n",
    "\n",
    "accuracy = correct / len(data)\n",
    "print(f\"Accuracy: {accuracy * 100:.2f}%\")"
   ]
  }
 ],
 "metadata": {
  "kernelspec": {
   "display_name": "Python 3 (ipykernel)",
   "language": "python",
   "name": "python3"
  },
  "language_info": {
   "codemirror_mode": {
    "name": "ipython",
    "version": 3
   },
   "file_extension": ".py",
   "mimetype": "text/x-python",
   "name": "python",
   "nbconvert_exporter": "python",
   "pygments_lexer": "ipython3",
   "version": "3.13.5"
  }
 },
 "nbformat": 4,
 "nbformat_minor": 5
}
